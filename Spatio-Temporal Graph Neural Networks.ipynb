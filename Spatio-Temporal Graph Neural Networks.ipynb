{
 "cells": [
  {
   "cell_type": "markdown",
   "id": "7dc3256a",
   "metadata": {},
   "source": [
    "# Lecture XX: Spatio-Temporal Graph Neural Networks"
   ]
  },
  {
   "cell_type": "markdown",
   "id": "91d598ea",
   "metadata": {},
   "source": [
    "**Goal:** In this lecture, we will try to understand the concept of spatio-temporal graph neural networks and implement the code\n",
    "\n",
    "**Initial author:** Dr. Ajay B Harish <br>\n",
    "**Other contributors:**\n",
    "\n",
    "*Copyrights 2023, Ajay Lab (ajaylab.co.uk)*"
   ]
  },
  {
   "cell_type": "markdown",
   "id": "d3f27373",
   "metadata": {},
   "source": [
    "Graph neural networks have shown great versatility in modelling real-world systems like engineering systems (airports, connectivity systems etc.), chemistry (atoms and molecules), language (words and sentences etc.)."
   ]
  },
  {
   "cell_type": "code",
   "execution_count": null,
   "id": "89a417df",
   "metadata": {},
   "outputs": [],
   "source": []
  }
 ],
 "metadata": {
  "kernelspec": {
   "display_name": "Python 3 (ipykernel)",
   "language": "python",
   "name": "python3"
  },
  "language_info": {
   "codemirror_mode": {
    "name": "ipython",
    "version": 3
   },
   "file_extension": ".py",
   "mimetype": "text/x-python",
   "name": "python",
   "nbconvert_exporter": "python",
   "pygments_lexer": "ipython3",
   "version": "3.9.11"
  }
 },
 "nbformat": 4,
 "nbformat_minor": 5
}
